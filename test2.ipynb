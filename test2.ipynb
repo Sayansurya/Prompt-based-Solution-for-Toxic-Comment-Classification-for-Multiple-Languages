{
 "cells": [
  {
   "cell_type": "code",
   "execution_count": 133,
   "metadata": {},
   "outputs": [],
   "source": [
    "import pandas as pd\n",
    "import numpy as np\n",
    "import re\n",
    "import emoji"
   ]
  },
  {
   "cell_type": "code",
   "execution_count": 134,
   "metadata": {},
   "outputs": [],
   "source": [
    "sentence = pd.read_csv('jigsaw/test.csv')\n",
    "label = pd.read_csv('jigsaw/test_labels.csv')\n",
    "sentence_128 = pd.read_csv('jigsaw/test-processed-seqlen128.csv')"
   ]
  },
  {
   "cell_type": "code",
   "execution_count": 135,
   "metadata": {},
   "outputs": [
    {
     "name": "stdout",
     "output_type": "stream",
     "text": [
      "Index(['id', 'comment_text', 'input_word_ids', 'input_mask', 'all_segment_id'], dtype='object')\n",
      "Index(['id', 'toxic'], dtype='object')\n",
      "Index(['id', 'content', 'lang'], dtype='object')\n"
     ]
    }
   ],
   "source": [
    "print(sentence_128.columns)\n",
    "print(label.columns)\n",
    "print(sentence.columns)"
   ]
  },
  {
   "cell_type": "code",
   "execution_count": 136,
   "metadata": {},
   "outputs": [
    {
     "data": {
      "text/plain": [
       "Index(['id', 'comment_text', 'input_word_ids', 'input_mask', 'all_segment_id',\n",
       "       'toxic', 'content', 'lang'],\n",
       "      dtype='object')"
      ]
     },
     "execution_count": 136,
     "metadata": {},
     "output_type": "execute_result"
    }
   ],
   "source": [
    "merged_test = pd.merge(sentence_128, label, on='id')\n",
    "merged_test = pd.merge(merged_test, sentence, on='id')\n",
    "merged_test.columns"
   ]
  },
  {
   "cell_type": "code",
   "execution_count": 137,
   "metadata": {},
   "outputs": [],
   "source": [
    "merged_test = merged_test.drop(['input_word_ids', 'input_mask', 'all_segment_id', 'id', 'content'], axis=1)"
   ]
  },
  {
   "cell_type": "code",
   "execution_count": 138,
   "metadata": {},
   "outputs": [
    {
     "data": {
      "text/plain": [
       "Index(['comment_text', 'toxic', 'lang'], dtype='object')"
      ]
     },
     "execution_count": 138,
     "metadata": {},
     "output_type": "execute_result"
    }
   ],
   "source": [
    "merged_test.columns"
   ]
  },
  {
   "cell_type": "code",
   "execution_count": 139,
   "metadata": {},
   "outputs": [
    {
     "data": {
      "text/html": [
       "<div>\n",
       "<style scoped>\n",
       "    .dataframe tbody tr th:only-of-type {\n",
       "        vertical-align: middle;\n",
       "    }\n",
       "\n",
       "    .dataframe tbody tr th {\n",
       "        vertical-align: top;\n",
       "    }\n",
       "\n",
       "    .dataframe thead th {\n",
       "        text-align: right;\n",
       "    }\n",
       "</style>\n",
       "<table border=\"1\" class=\"dataframe\">\n",
       "  <thead>\n",
       "    <tr style=\"text-align: right;\">\n",
       "      <th></th>\n",
       "      <th>comment_text</th>\n",
       "      <th>toxic</th>\n",
       "      <th>lang</th>\n",
       "    </tr>\n",
       "  </thead>\n",
       "  <tbody>\n",
       "    <tr>\n",
       "      <th>41795</th>\n",
       "      <td>Hé la pétasse t as tes menstruations ? tu te c...</td>\n",
       "      <td>1</td>\n",
       "      <td>fr</td>\n",
       "    </tr>\n",
       "    <tr>\n",
       "      <th>22290</th>\n",
       "      <td>Buon intervento, ho solo tolto la frase  l uso...</td>\n",
       "      <td>0</td>\n",
       "      <td>it</td>\n",
       "    </tr>\n",
       "    <tr>\n",
       "      <th>7049</th>\n",
       "      <td>Gerçek bilimse3l verilere dayalı bir isim deği...</td>\n",
       "      <td>0</td>\n",
       "      <td>tr</td>\n",
       "    </tr>\n",
       "    <tr>\n",
       "      <th>37568</th>\n",
       "      <td>BM projesine olan desteğiniz için çok teşekkür...</td>\n",
       "      <td>0</td>\n",
       "      <td>tr</td>\n",
       "    </tr>\n",
       "    <tr>\n",
       "      <th>28702</th>\n",
       "      <td>Merhabalar. Çok fazla değişiklik yapamadığımız...</td>\n",
       "      <td>0</td>\n",
       "      <td>tr</td>\n",
       "    </tr>\n",
       "  </tbody>\n",
       "</table>\n",
       "</div>"
      ],
      "text/plain": [
       "                                            comment_text  toxic lang\n",
       "41795  Hé la pétasse t as tes menstruations ? tu te c...      1   fr\n",
       "22290  Buon intervento, ho solo tolto la frase  l uso...      0   it\n",
       "7049   Gerçek bilimse3l verilere dayalı bir isim deği...      0   tr\n",
       "37568  BM projesine olan desteğiniz için çok teşekkür...      0   tr\n",
       "28702  Merhabalar. Çok fazla değişiklik yapamadığımız...      0   tr"
      ]
     },
     "execution_count": 139,
     "metadata": {},
     "output_type": "execute_result"
    }
   ],
   "source": [
    "merged_test.sample(5)"
   ]
  },
  {
   "cell_type": "code",
   "execution_count": 140,
   "metadata": {},
   "outputs": [],
   "source": [
    "lang_data = merged_test[merged_test['lang'] == 'ru']"
   ]
  },
  {
   "cell_type": "code",
   "execution_count": 141,
   "metadata": {},
   "outputs": [],
   "source": [
    "lang_data = lang_data.drop(['lang'], axis=1)\n",
    "lang_data['comment_text'] = lang_data['comment_text'].apply(lambda x: emoji.demojize(x.replace('\\n', '')))"
   ]
  },
  {
   "cell_type": "code",
   "execution_count": 142,
   "metadata": {},
   "outputs": [],
   "source": [
    "lang_data.to_csv('jigsaw/processed/ru_toxic.csv', index=False)"
   ]
  },
  {
   "cell_type": "code",
   "execution_count": null,
   "metadata": {},
   "outputs": [],
   "source": []
  }
 ],
 "metadata": {
  "kernelspec": {
   "display_name": "prompt",
   "language": "python",
   "name": "python3"
  },
  "language_info": {
   "codemirror_mode": {
    "name": "ipython",
    "version": 3
   },
   "file_extension": ".py",
   "mimetype": "text/x-python",
   "name": "python",
   "nbconvert_exporter": "python",
   "pygments_lexer": "ipython3",
   "version": "3.10.8"
  },
  "orig_nbformat": 4
 },
 "nbformat": 4,
 "nbformat_minor": 2
}
