{
 "cells": [
  {
   "cell_type": "code",
   "execution_count": null,
   "metadata": {},
   "outputs": [],
   "source": [
    "import pandas as pd\n",
    "from imblearn.over_sampling import RandomOverSampler\n",
    "import torch\n",
    "from torch.utils.data import Dataset, DataLoader\n",
    "\n",
    "# Load data into pandas DataFrames\n",
    "train_data = pd.read_csv('train_data.csv')\n",
    "dev_data = pd.read_csv('dev_data.csv')\n",
    "test_data = pd.read_csv('test_data.csv')\n",
    "\n",
    "# Use the RandomOverSampler from imblearn to oversample the minority class in the train set\n",
    "oversampler = RandomOverSampler(random_state=42)\n",
    "X_train_resampled, y_train_resampled = oversampler.fit_resample(train_data['sentence'].values.reshape(-1, 1), train_data['label'])\n",
    "\n",
    "# Convert the oversampled data back into pandas DataFrames\n",
    "X_train_resampled = pd.DataFrame(X_train_resampled.reshape(-1), columns=['sentence'])\n",
    "y_train_resampled = pd.Series(y_train_resampled)\n",
    "\n",
    "# Define a custom PyTorch Dataset class for the resampled train set\n",
    "class MyDataset(Dataset):\n",
    "    def __init__(self, X, y):\n",
    "        self.X = X\n",
    "        self.y = y\n",
    "        \n",
    "    def __getitem__(self, index):\n",
    "        return self.X[index], self.y[index]\n",
    "    \n",
    "    def __len__(self):\n",
    "        return len(self.X)\n",
    "\n",
    "# Create DataLoader objects for the resampled train set, dev set, and test set\n",
    "train_dataset = MyDataset(X_train_resampled, y_train_resampled)\n",
    "dev_dataset = MyDataset(dev_data['sentence'], dev_data['label'])\n",
    "test_dataset = MyDataset(test_data['sentence'], test_data['label'])\n",
    "\n",
    "train_loader = DataLoader(train_dataset, batch_size=32, shuffle=True)\n",
    "dev_loader = DataLoader(dev_dataset, batch_size=32, shuffle=False)\n",
    "test_loader = DataLoader(test_dataset, batch_size=32, shuffle=False)\n"
   ]
  }
 ],
 "metadata": {
  "kernelspec": {
   "display_name": "mlenv",
   "language": "python",
   "name": "python3"
  },
  "language_info": {
   "name": "python",
   "version": "3.10.8"
  },
  "orig_nbformat": 4
 },
 "nbformat": 4,
 "nbformat_minor": 2
}
