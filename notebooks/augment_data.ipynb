{
 "cells": [
  {
   "cell_type": "code",
   "execution_count": null,
   "metadata": {},
   "outputs": [],
   "source": [
    "import pandas as pd\n",
    "import os\n",
    "import numpy as np"
   ]
  },
  {
   "cell_type": "code",
   "execution_count": null,
   "metadata": {},
   "outputs": [],
   "source": [
    "os.chdir('../dataset/processed')"
   ]
  },
  {
   "attachments": {},
   "cell_type": "markdown",
   "metadata": {},
   "source": [
    "### Data to Translate - task A"
   ]
  },
  {
   "cell_type": "code",
   "execution_count": null,
   "metadata": {},
   "outputs": [],
   "source": [
    "df = pd.read_csv('dataset/taskA/homo_hin_3_train.csv', index_col=0)"
   ]
  },
  {
   "cell_type": "code",
   "execution_count": null,
   "metadata": {},
   "outputs": [],
   "source": [
    "mapper = {k:v for v,k in enumerate(sorted(df.category.unique()))}\n",
    "df['label'] = df.category.map(mapper)"
   ]
  },
  {
   "cell_type": "code",
   "execution_count": null,
   "metadata": {},
   "outputs": [],
   "source": [
    "train_add_augment, dev_add_augment = get_imbalanced_class_instances('taskA')"
   ]
  },
  {
   "cell_type": "code",
   "execution_count": null,
   "metadata": {},
   "outputs": [],
   "source": [
    "train_add_augment.to_csv('augmenter_train.csv', index=False)\n",
    "dev_add_augment.to_csv('augmenter_dev.csv', index=False)"
   ]
  },
  {
   "attachments": {},
   "cell_type": "markdown",
   "metadata": {},
   "source": [
    "### Data to Translate - task B"
   ]
  },
  {
   "cell_type": "code",
   "execution_count": null,
   "metadata": {},
   "outputs": [],
   "source": [
    "df = pd.read_csv('taskB/homo_eng_7_train.csv')"
   ]
  },
  {
   "cell_type": "code",
   "execution_count": 21,
   "metadata": {},
   "outputs": [
    {
     "data": {
      "text/plain": [
       "{'counter-speech': 0,\n",
       " 'homophobic-derogation': 1,\n",
       " 'homophobic-threatening': 2,\n",
       " 'hope-speech': 3,\n",
       " 'none-of-the-categories': 4,\n",
       " 'transphobic-derogation': 5,\n",
       " 'transphobic-threatening': 6}"
      ]
     },
     "execution_count": 21,
     "metadata": {},
     "output_type": "execute_result"
    }
   ],
   "source": [
    "mapper = {k:v for v,k in enumerate(sorted(df.category.unique()))}\n",
    "mapper"
   ]
  },
  {
   "attachments": {},
   "cell_type": "markdown",
   "metadata": {},
   "source": [
    "classes with least examples\n",
    "* transphobic-threatening\n",
    "* homophobic-threatening\n",
    "* transphobic-derogation\n",
    "* homophobic-derogation"
   ]
  },
  {
   "cell_type": "code",
   "execution_count": null,
   "metadata": {},
   "outputs": [],
   "source": [
    "def get_imbalanced_class_instances(task):\n",
    "    train_add_augment = pd.DataFrame(columns=['lang', 'text', 'category', 'label'])\n",
    "    dev_add_augment = pd.DataFrame(columns=['lang', 'text', 'category', 'label'])\n",
    "    for file in os.listdir(task):\n",
    "        lang = file.split('_')[1]\n",
    "        df = pd.read_csv(os.path.join(task, file))\n",
    "        df.rename(columns={'Labels': 'category'}, inplace=True)\n",
    "        filtered_df = df[df.label.isin([1,2,5,6])]\n",
    "        filtered_df['lang'] = lang\n",
    "        if file.__contains__('train'):\n",
    "            train_add_augment = pd.concat([train_add_augment, filtered_df])\n",
    "        elif file.__contains__('dev'):\n",
    "            dev_add_augment = pd.concat([dev_add_augment, filtered_df])\n",
    "        else:\n",
    "            raise ValueError(f'case not handled for {file}')\n",
    "    return train_add_augment, dev_add_augment"
   ]
  },
  {
   "cell_type": "code",
   "execution_count": null,
   "metadata": {},
   "outputs": [],
   "source": [
    "train_add_augment, dev_add_augment = get_imbalanced_class_instances('taskB')"
   ]
  },
  {
   "cell_type": "code",
   "execution_count": 19,
   "metadata": {},
   "outputs": [],
   "source": [
    "train_add_augment.to_csv('taskB_train_augment_data.csv')"
   ]
  },
  {
   "cell_type": "code",
   "execution_count": 20,
   "metadata": {},
   "outputs": [],
   "source": [
    "dev_add_augment.to_csv('taskB_dev_augment_data.csv')"
   ]
  }
 ],
 "metadata": {
  "kernelspec": {
   "display_name": "mlenv",
   "language": "python",
   "name": "python3"
  },
  "language_info": {
   "codemirror_mode": {
    "name": "ipython",
    "version": 3
   },
   "file_extension": ".py",
   "mimetype": "text/x-python",
   "name": "python",
   "nbconvert_exporter": "python",
   "pygments_lexer": "ipython3",
   "version": "3.10.8"
  },
  "orig_nbformat": 4
 },
 "nbformat": 4,
 "nbformat_minor": 2
}
