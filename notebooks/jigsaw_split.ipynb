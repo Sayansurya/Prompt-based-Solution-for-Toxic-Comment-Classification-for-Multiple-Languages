{
 "cells": [
  {
   "cell_type": "code",
   "execution_count": 1,
   "id": "ab8a0a66",
   "metadata": {},
   "outputs": [],
   "source": [
    "import os\n",
    "import pandas as pd\n",
    "import numpy as np\n",
    "from sklearn.model_selection import train_test_split"
   ]
  },
  {
   "attachments": {},
   "cell_type": "markdown",
   "id": "56292d3a",
   "metadata": {},
   "source": [
    "#### split per language into train-val-test\n"
   ]
  },
  {
   "cell_type": "code",
   "execution_count": 5,
   "id": "0f4c25b1",
   "metadata": {},
   "outputs": [],
   "source": [
    "# np.random.seed(42)"
   ]
  },
  {
   "cell_type": "code",
   "execution_count": 12,
   "id": "e3903508",
   "metadata": {},
   "outputs": [],
   "source": [
    "# def do_split(data):\n",
    "#     # Split data into train and test sets (70:30 ratio), stratified by label\n",
    "#     X_train, X_test, y_train, y_test = train_test_split(data['sentence'], data['label'], test_size=0.3, stratify=data['label'], random_state=42)\n",
    "\n",
    "#     # Split test set into test and dev sets (2:1 ratio), stratified by label\n",
    "#     X_dev, X_test, y_dev, y_test = train_test_split(X_test, y_test, test_size=0.67, stratify=y_test, random_state=42)\n",
    "    \n",
    "#     train = pd.concat([X_train, y_train], axis=1)\n",
    "#     dev = pd.concat([X_dev, y_dev], axis=1)\n",
    "#     test = pd.concat([X_test, y_test], axis=1)\n",
    "    \n",
    "#     # Create a DataFrame to hold the class distribution for each split\n",
    "#     class_dist = pd.DataFrame({'Train': y_train.value_counts(),\n",
    "#                            'Dev': y_dev.value_counts(),\n",
    "#                            'Test': y_test.value_counts()})\n",
    "\n",
    "#     # Print the class distribution DataFrame\n",
    "#     print('Class Distribution:\\n', class_dist)\n",
    "\n",
    "#     return train, dev, test\n",
    "\n",
    "    "
   ]
  },
  {
   "cell_type": "code",
   "execution_count": 13,
   "id": "acb1b00f",
   "metadata": {},
   "outputs": [],
   "source": [
    "# data = pd.read_csv('en_toxic.csv')"
   ]
  },
  {
   "cell_type": "code",
   "execution_count": 2,
   "id": "4e55c7d7",
   "metadata": {},
   "outputs": [],
   "source": [
    "# for lang in ['en', 'es', 'fr']:\n",
    "#     data = pd.read_csv(f'{lang}_toxic.csv')\n",
    "#     train, dev, test = do_split(data)\n",
    "#     train.to_csv(f'train_{lang}.csv', index=False)\n",
    "#     dev.to_csv(f'dev_{lang}.csv', index=False)\n",
    "#     test.to_csv(f'test_{lang}.csv', index=False)\n",
    "    "
   ]
  },
  {
   "attachments": {},
   "cell_type": "markdown",
   "id": "b27df476",
   "metadata": {},
   "source": [
    "#### Combine for finetuning"
   ]
  },
  {
   "cell_type": "code",
   "execution_count": 4,
   "id": "3700e779",
   "metadata": {},
   "outputs": [],
   "source": [
    "os.chdir('../jigsaw/processed/')"
   ]
  },
  {
   "cell_type": "code",
   "execution_count": 3,
   "id": "f2fac8aa",
   "metadata": {},
   "outputs": [
    {
     "data": {
      "text/plain": [
       "['test_es.csv',\n",
       " 'dev_fr.csv',\n",
       " 'test_en.csv',\n",
       " 'dev_es.csv',\n",
       " 'train_en.csv',\n",
       " 'train_fr.csv',\n",
       " 'train_es.csv',\n",
       " 'test_fr.csv',\n",
       " 'dev_en.csv']"
      ]
     },
     "execution_count": 3,
     "metadata": {},
     "output_type": "execute_result"
    }
   ],
   "source": [
    "train = pd.DataFrame(columns=['sentence', 'label'])\n",
    "dev = pd.DataFrame(columns=['sentence', 'label'])\n",
    "test = pd.DataFrame(columns=['sentence', 'label'])\n",
    "for file in os.listdir():\n",
    "    if file.__contains__('train'):\n",
    "        train = train.concat([train, pd.read_csv(file)])\n",
    "    elif file.__contains__('dev'):\n",
    "        dev = dev.concat([dev, ])\n"
   ]
  },
  {
   "cell_type": "code",
   "execution_count": null,
   "id": "3371272d",
   "metadata": {},
   "outputs": [],
   "source": []
  }
 ],
 "metadata": {
  "kernelspec": {
   "display_name": "Python 3 (ipykernel)",
   "language": "python",
   "name": "python3"
  },
  "language_info": {
   "codemirror_mode": {
    "name": "ipython",
    "version": 3
   },
   "file_extension": ".py",
   "mimetype": "text/x-python",
   "name": "python",
   "nbconvert_exporter": "python",
   "pygments_lexer": "ipython3",
   "version": "3.10.8"
  }
 },
 "nbformat": 4,
 "nbformat_minor": 5
}
