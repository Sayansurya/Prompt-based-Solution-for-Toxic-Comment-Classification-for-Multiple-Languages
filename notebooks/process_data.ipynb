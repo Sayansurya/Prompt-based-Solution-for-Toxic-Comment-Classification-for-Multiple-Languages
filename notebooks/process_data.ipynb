{
 "cells": [
  {
   "cell_type": "code",
   "execution_count": null,
   "metadata": {},
   "outputs": [],
   "source": [
    "import pandas as pd\n",
    "import os\n",
    "import numpy as np"
   ]
  },
  {
   "cell_type": "code",
   "execution_count": null,
   "metadata": {},
   "outputs": [],
   "source": [
    "task = 'taskA'"
   ]
  },
  {
   "cell_type": "code",
   "execution_count": null,
   "metadata": {},
   "outputs": [],
   "source": [
    "os.chdir('../dataset')"
   ]
  },
  {
   "cell_type": "code",
   "execution_count": null,
   "metadata": {},
   "outputs": [],
   "source": [
    "os.makedirs('processed/taskA', exist_ok=True)\n",
    "os.makedirs('processed/taskB', exist_ok=True)"
   ]
  },
  {
   "cell_type": "code",
   "execution_count": null,
   "metadata": {},
   "outputs": [],
   "source": [
    "def process_df_cols(df):\n",
    "    final_cols = {}\n",
    "    drop_col = []\n",
    "    for col in df.columns:\n",
    "        if col.lower().__contains__('text'):\n",
    "            final_cols[col] = 'text'\n",
    "        elif col.lower().__contains__('category') or col.lower().__contains__('label'):\n",
    "            final_cols[col] = 'category'\n",
    "        else:\n",
    "            drop_col.append(col)\n",
    "    df.drop(columns=drop_col, inplace=True)\n",
    "    df.rename(columns=final_cols, inplace=True)\n",
    "    return df\n",
    "\n",
    "def process_df(task):\n",
    "    mapper = {\n",
    "        'Non-anti-LGBT+ content': 'non-anti-LGBT',\n",
    "        'Homophobia': 'homophobic',\n",
    "        'Transphobia': 'transphobic',\n",
    "        'Homophobic': 'homophobic',\n",
    "        'Transphobic': 'transphobic',\n",
    "        'None': 'non-anti-LGBT'\n",
    "    } if task == 'taskA' else {\n",
    "        'Counter-speech': 'counter-speech',\n",
    "        'Homophobia': 'homophobic',\n",
    "        'Homophobic-Threatening': 'homophobic-threatening',\n",
    "        'Homophobic-derogation': 'homophobic-derogation',\n",
    "        'Hope-Speech': 'hope-speech',\n",
    "        'None': 'none-of-the-categories',\n",
    "        'None of categories': 'none-of-the-categories',\n",
    "        'None-of-the-above': 'none-of-the-categories',\n",
    "        'Transphobia': 'transphobic',\n",
    "        'Transphobic-Threatening': 'transphobic-threatening',\n",
    "        'Transphobic-derogation': 'transphobic-derogation'\n",
    "    }\n",
    "    for file in os.listdir(task):\n",
    "        try:\n",
    "            if (task == 'taskA' and file.split('_')[1] in ['eng', 'hin', 'hindi', 'spanish', 'tam', 'mal']) or (task == 'taskB' and file.split('_')[1] in ['eng', 'tam', 'mal']):\n",
    "                df = pd.read_csv(os.path.join(task, file))\n",
    "                df = process_df_cols(df)\n",
    "                df.fillna('None', inplace=True)\n",
    "                filtered_rows = []\n",
    "                for row in df.itertuples():\n",
    "                    if len(row.text) < 5:\n",
    "                        continue\n",
    "                    filtered_rows.append({'text': row.text, 'category': mapper[row.category]})\n",
    "                new_df = pd.DataFrame(filtered_rows)\n",
    "                label_mapper = {k:v for v,k in enumerate(sorted(new_df.category.unique()))}\n",
    "                print(label_mapper)\n",
    "                new_df['label'] = new_df['category'].apply(lambda x: label_mapper[x])\n",
    "                new_df.to_csv(os.path.join('processed', task, file), index=False)      \n",
    "        except:\n",
    "            print(file)  \n",
    "            "
   ]
  },
  {
   "cell_type": "code",
   "execution_count": null,
   "metadata": {},
   "outputs": [],
   "source": [
    "process_df('taskA')"
   ]
  },
  {
   "cell_type": "code",
   "execution_count": null,
   "metadata": {},
   "outputs": [],
   "source": [
    "process_df('taskB')"
   ]
  }
 ],
 "metadata": {
  "kernelspec": {
   "display_name": "mlenv",
   "language": "python",
   "name": "python3"
  },
  "language_info": {
   "codemirror_mode": {
    "name": "ipython",
    "version": 3
   },
   "file_extension": ".py",
   "mimetype": "text/x-python",
   "name": "python",
   "nbconvert_exporter": "python",
   "pygments_lexer": "ipython3",
   "version": "3.10.8"
  },
  "orig_nbformat": 4
 },
 "nbformat": 4,
 "nbformat_minor": 2
}
